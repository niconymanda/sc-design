{
 "cells": [
  {
   "cell_type": "code",
   "execution_count": 1,
   "metadata": {},
   "outputs": [
    {
     "name": "stderr",
     "output_type": "stream",
     "text": [
      "c:\\Users\\nicon\\Anaconda3\\lib\\site-packages\\pinecone\\index.py:4: TqdmExperimentalWarning: Using `tqdm.autonotebook.tqdm` in notebook mode. Use `tqdm.tqdm` instead to force console mode (e.g. in jupyter console)\n",
      "  from tqdm.autonotebook import tqdm\n"
     ]
    }
   ],
   "source": [
    "from pinecone_class import Pinecone_editing, Pinecone_query\n",
    "from inputs import *"
   ]
  },
  {
   "cell_type": "markdown",
   "metadata": {},
   "source": [
    "## 1. Upserting all scraped jsons"
   ]
  },
  {
   "cell_type": "code",
   "execution_count": 5,
   "metadata": {},
   "outputs": [],
   "source": [
    "Pinecone_editing.wrapper_upsert_scraped_files(all_json_files)"
   ]
  },
  {
   "cell_type": "markdown",
   "metadata": {},
   "source": [
    "## 2. Chatting with the chatbot"
   ]
  },
  {
   "cell_type": "code",
   "execution_count": 7,
   "metadata": {},
   "outputs": [
    {
     "name": "stdout",
     "output_type": "stream",
     "text": [
      "Sure! Here are some mission names that observe Earth's oceans:\n",
      "\n",
      "1. SMOS (Soil Moisture and Ocean Salinity)\n",
      "2. Jason-1\n",
      "3. Jason-2\n",
      "4. Jason-3\n",
      "5. OrbView 2 (SeaStar) with SeaWiFS sensor\n",
      "\n",
      "These missions focus on various aspects of ocean observation, such as measuring ocean surface topography, monitoring soil moisture and ocean salinity, and studying ocean bio-optical properties.\n"
     ]
    }
   ],
   "source": [
    "print(Pinecone_query.query_VD(\"Hello, could you give me some mission names which observe Earths oceans?\"))"
   ]
  },
  {
   "cell_type": "code",
   "execution_count": 6,
   "metadata": {},
   "outputs": [
    {
     "name": "stdout",
     "output_type": "stream",
     "text": [
      "Sure! Here are some mission instruments from missions that observe Earth's oceans:\n",
      "\n",
      "1. Sea-viewing Wide Field-of-view Sensor (SeaWiFS) - This instrument is used on the OrbView 2 satellite to provide quantitative data on global ocean bio-optical properties.\n",
      "\n",
      "2. Microwave Radiometer (MWR) - Used to measure the topography of ocean surfaces, with quality equal to the data provided by the altimeters on Envisat.\n",
      "\n",
      "3. OCLI and SLSTR instruments - These instruments on the Sentinel-3 satellite are used for global vegetation monitoring and determining the condition of vegetation.\n",
      "\n",
      "4. Jason-1 - This satellite features instruments such as JMR (Microwave radiometer), TRSR (GPS tracking receiver), LRA (Laser retroreflector array), Poseidon-2 (Solid state radar altimeter), and DORIS (Doppler tracking system receiver).\n",
      "\n",
      "5. TOPEX/POSEIDON - This satellite carries instruments like the dual-frequency NASA Radar Altimeter (NRA) and the three-frequency TOPEX Microwave Radiometer (TMR).\n",
      "\n",
      "These instruments are used to gather data on ocean properties, topography, vegetation, and more.\n"
     ]
    }
   ],
   "source": [
    "print(Pinecone_query.query_VD(\"Hello, could you give me some mission instruments from missions which observe Earths oceans?\"))"
   ]
  },
  {
   "cell_type": "code",
   "execution_count": 3,
   "metadata": {},
   "outputs": [
    {
     "data": {
      "text/plain": [
       "\"I'm sorry, but I don't have any information about missions specifically focused on observing Earth's rivers.\""
      ]
     },
     "execution_count": 3,
     "metadata": {},
     "output_type": "execute_result"
    }
   ],
   "source": [
    "Pinecone_query.query_VD(\"Hello, could you give me some mission names which observe Earths rivers?\")"
   ]
  }
 ],
 "metadata": {
  "kernelspec": {
   "display_name": "Python 3",
   "language": "python",
   "name": "python3"
  },
  "language_info": {
   "codemirror_mode": {
    "name": "ipython",
    "version": 3
   },
   "file_extension": ".py",
   "mimetype": "text/x-python",
   "name": "python",
   "nbconvert_exporter": "python",
   "pygments_lexer": "ipython3",
   "version": "3.8.5"
  },
  "orig_nbformat": 4
 },
 "nbformat": 4,
 "nbformat_minor": 2
}
