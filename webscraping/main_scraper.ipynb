{
 "cells": [
  {
   "cell_type": "code",
   "execution_count": 2,
   "metadata": {},
   "outputs": [],
   "source": [
    "from webscraping_class import Webscraping\n",
    "from inputs import *"
   ]
  },
  {
   "cell_type": "markdown",
   "metadata": {},
   "source": [
    "## 1. Webscraping"
   ]
  },
  {
   "attachments": {},
   "cell_type": "markdown",
   "metadata": {},
   "source": [
    "### 1.1 Scraping NASA's missions"
   ]
  },
  {
   "cell_type": "code",
   "execution_count": 5,
   "metadata": {},
   "outputs": [],
   "source": [
    "from nasa_scraper import wrapper_get_all_nasa_missions"
   ]
  },
  {
   "cell_type": "code",
   "execution_count": 3,
   "metadata": {},
   "outputs": [],
   "source": [
    "nasa_object = Webscraping.get_soup(nasa_url)\n",
    "nasa_missions = wrapper_get_all_nasa_missions(nasa_object)\n",
    "Webscraping.save_json(\"nasa_missions\", nasa_missions)"
   ]
  },
  {
   "cell_type": "markdown",
   "metadata": {},
   "source": [
    "### 1.2 Scraping ESA missions"
   ]
  },
  {
   "cell_type": "code",
   "execution_count": 1,
   "metadata": {},
   "outputs": [],
   "source": [
    "from esa_scraper import *# wrapper_get_all_esa_missions"
   ]
  },
  {
   "cell_type": "code",
   "execution_count": null,
   "metadata": {},
   "outputs": [],
   "source": [
    "esa_object = Webscraping.get_soup(esa_url)\n",
    "esa_missions = wrapper_get_all_esa_missions(esa_object)\n",
    "Webscraping.save_json(\"esa_missions\", esa_missions)"
   ]
  },
  {
   "cell_type": "markdown",
   "metadata": {},
   "source": [
    "### 1.3 Scraping skyrocket missions"
   ]
  },
  {
   "cell_type": "code",
   "execution_count": null,
   "metadata": {},
   "outputs": [],
   "source": [
    "from skyrocket_scraper import wrapper_get_all_skyrocket_missions"
   ]
  },
  {
   "cell_type": "code",
   "execution_count": null,
   "metadata": {},
   "outputs": [],
   "source": [
    "skyrocket_missions = wrapper_get_all_skyrocket_missions(skyrocket_primary_url, skyrocket_platform_url)\n",
    "Webscraping.save_json(\"skyrocket_missions\", skyrocket_missions)"
   ]
  },
  {
   "cell_type": "markdown",
   "metadata": {},
   "source": [
    "### 1.4 Scraping EO-Portal Satellites"
   ]
  },
  {
   "cell_type": "code",
   "execution_count": 1,
   "metadata": {},
   "outputs": [],
   "source": [
    "from eop_scraper import wrapper_get_all_eop_satellites"
   ]
  },
  {
   "cell_type": "code",
   "execution_count": null,
   "metadata": {},
   "outputs": [],
   "source": [
    "eop_satellites = wrapper_get_all_eop_satellites(eop_platform_url)\n",
    "Webscraping.save_json(\"eop_satellites\", eop_satellites)"
   ]
  },
  {
   "cell_type": "markdown",
   "metadata": {},
   "source": [
    "## 2. Scraping PDFs"
   ]
  },
  {
   "cell_type": "code",
   "execution_count": 1,
   "metadata": {},
   "outputs": [],
   "source": [
    "from pdf_scraper import Scrape_pdf"
   ]
  },
  {
   "attachments": {},
   "cell_type": "markdown",
   "metadata": {},
   "source": [
    "### 2.1 Scraping SMAD-Textbook"
   ]
  },
  {
   "cell_type": "code",
   "execution_count": 6,
   "metadata": {},
   "outputs": [],
   "source": [
    "smad_dict = Scrape_pdf.wrapper_transform_pdf(smad_path, smad_header_pattern, smad_chapter_pattern, smad_source, smad_start_from, smad_end_at)\n",
    "Webscraping.save_json(\"smad\", smad_dict)"
   ]
  },
  {
   "cell_type": "markdown",
   "metadata": {},
   "source": [
    "### 2.2 Scraping High-performance Chirped Microwave Generator for Space Applications"
   ]
  },
  {
   "cell_type": "code",
   "execution_count": 7,
   "metadata": {},
   "outputs": [],
   "source": [
    "pdf_118522V_dict = Scrape_pdf.wrapper_transform_pdf(pdf_118522V_path, pdf_118522V_header_pattern, pdf_118522V_chapter_pattern, pdf_118522V_source, pdf_118522V_start_from, pdf_118522V_end_at)\n",
    "Webscraping.save_json(\"118522V\", pdf_118522V_dict)"
   ]
  },
  {
   "cell_type": "markdown",
   "metadata": {},
   "source": [
    "### 2.3 Scraping Nonlinear Mixing Model of Mixed Pixels in Remote Sensing Satellite Images Taking Into Account Landscape"
   ]
  },
  {
   "cell_type": "code",
   "execution_count": 8,
   "metadata": {},
   "outputs": [],
   "source": [
    "rssi_dict = Scrape_pdf.wrapper_transform_pdf(rssi_path, rssi_header_pattern, rssi_chapter_pattern, rssi_source)\n",
    "Webscraping.save_json(\"rssi\", rssi_dict)"
   ]
  },
  {
   "cell_type": "markdown",
   "metadata": {},
   "source": [
    "### 2.4 Scraping Chip-Scaled Ka-Band Photonic Linearly Chirped Microwave Waveform Generator"
   ]
  },
  {
   "cell_type": "code",
   "execution_count": 9,
   "metadata": {},
   "outputs": [],
   "source": [
    "fphy_dict = Scrape_pdf.wrapper_transform_pdf(fphy_path, fphy_header_pattern, fphy_chapter_pattern, fphy_source, fphy_start_from, fphy_end_at)\n",
    "Webscraping.save_json(\"fphy\", fphy_dict)"
   ]
  },
  {
   "cell_type": "markdown",
   "metadata": {},
   "source": [
    "### 2.5 Scraping Monte Carlo Ray Tracing Based Non-Linear Mixture Model of Mixed Pixels in Earth Observation Satellite Imagery Data"
   ]
  },
  {
   "cell_type": "code",
   "execution_count": 3,
   "metadata": {},
   "outputs": [],
   "source": [
    "mcrt_dict = Scrape_pdf.wrapper_transform_pdf(mcrt_path, mcrt_header_pattern, mcrt_chapter_pattern, mcrt_source)\n",
    "Webscraping.save_json(\"mcrt\", mcrt_dict)"
   ]
  },
  {
   "cell_type": "markdown",
   "metadata": {},
   "source": [
    "### 2.6 Scraping Radiometric and Spectral Onboard Calibration Concepts of Hyperspectral Sensors - Specifics of EnMAP and DESIS"
   ]
  },
  {
   "cell_type": "code",
   "execution_count": 4,
   "metadata": {},
   "outputs": [],
   "source": [
    "page_content = Scrape_pdf.convert_to_text(Scrape_pdf.open_pdf(rscal_path))[0]\n",
    "metadata = {\"chapter\": \"Abstract\", \"source\": rscal_source}\n",
    "rscal_dict = [Webscraping.create_json(page_content, metadata)]\n",
    "Webscraping.save_json(\"rscal\", rscal_dict)"
   ]
  },
  {
   "cell_type": "markdown",
   "metadata": {},
   "source": [
    "### 2.8 Scraping The Ionospheric Connection Explorer Mission: Mission Goals and Design"
   ]
  },
  {
   "cell_type": "code",
   "execution_count": 8,
   "metadata": {},
   "outputs": [],
   "source": [
    "ioncon_dict = Scrape_pdf.wrapper_transform_pdf(ioncon_path, ioncon_header_pattern, ioncon_chapter_pattern, ioncon_source, ioncon_start_from, ioncon_end_at)\n",
    "Webscraping.save_json(\"ioncon\", ioncon_dict)"
   ]
  },
  {
   "cell_type": "markdown",
   "metadata": {},
   "source": [
    "### 2.9 Scraping Michelson Interferometer for Global High-resolution Thermospheric Imaging (MIGHTI): Instrument Design and Calibration"
   ]
  },
  {
   "cell_type": "code",
   "execution_count": 9,
   "metadata": {},
   "outputs": [],
   "source": [
    "mighti_dict = Scrape_pdf.wrapper_transform_pdf(mighti_path, mighti_header_pattern, mighti_chapter_pattern, mighti_source, mighti_start_from, mighti_end_at)\n",
    "Webscraping.save_json(\"mighti\", mighti_dict)"
   ]
  },
  {
   "cell_type": "markdown",
   "metadata": {},
   "source": [
    "### 2.10 Scraping A comparison of Imaging Fourier Transform with Grating Spectrometry for Tridimensional Spectroscopy"
   ]
  },
  {
   "cell_type": "code",
   "execution_count": 10,
   "metadata": {},
   "outputs": [],
   "source": [
    "compfourgrat_dict = Scrape_pdf.wrapper_transform_pdf(compfourgrat_path, compfourgrat_header_pattern, compfourgrat_chapter_pattern, compfourgrat_source)\n",
    "Webscraping.save_json(\"compfourgrat\", compfourgrat_dict)"
   ]
  },
  {
   "cell_type": "markdown",
   "metadata": {},
   "source": [
    "### 2.11 Scraping Solar Imaging Spectroscopy: Multichannel Subtractive Double Pass Instruments"
   ]
  },
  {
   "cell_type": "code",
   "execution_count": 11,
   "metadata": {},
   "outputs": [],
   "source": [
    "solspec_dict = Scrape_pdf.wrapper_transform_pdf(solspec_path, solspec_header_pattern, solspec_chapter_pattern, solspec_source)\n",
    "Webscraping.save_json(\"solspec\", solspec_dict)"
   ]
  },
  {
   "cell_type": "markdown",
   "metadata": {},
   "source": [
    "### 2.12 Scraping Low Radio Frequency Observations from the Moon Enabled by NASA Landed Payload Missions\n"
   ]
  },
  {
   "cell_type": "code",
   "execution_count": 12,
   "metadata": {},
   "outputs": [],
   "source": [
    "lrfobs_dict = Scrape_pdf.wrapper_transform_pdf(lrfobs_path, lrfobs_header_pattern, lrfobs_chapter_pattern, lrfobs_source, lrfobs_start_from, lrfobs_end_at)\n",
    "Webscraping.save_json(\"lrfobs\", lrfobs_dict)"
   ]
  },
  {
   "cell_type": "markdown",
   "metadata": {},
   "source": [
    "### 2.13 Scraping ESA’S ASTEROID IMPACT MISSION: MISSION ANALYSIS AND PAYLOAD OPERATIONS STATE OF THE ART\n"
   ]
  },
  {
   "cell_type": "code",
   "execution_count": 7,
   "metadata": {},
   "outputs": [],
   "source": [
    "astimpact_dict = Scrape_pdf.wrapper_transform_pdf(astimpact_path, astimpact_header_pattern, astimpact_chapter_pattern, astimpact_source, astimpact_start_from, astimpact_end_at)\n",
    "Webscraping.save_json(\"astimpact\", astimpact_dict)"
   ]
  },
  {
   "cell_type": "markdown",
   "metadata": {},
   "source": [
    "### 2.14 Scraping The SuperCam Instrument Suite on the Mars 2020 Rover: Science Objectives and Mast-Unit Description\n"
   ]
  },
  {
   "cell_type": "code",
   "execution_count": 13,
   "metadata": {},
   "outputs": [],
   "source": [
    "supercam_dict = Scrape_pdf.wrapper_transform_pdf(supercam_path, supercam_header_pattern, supercam_chapter_pattern, supercam_source, supercam_start_from, supercam_end_at)\n",
    "Webscraping.save_json(\"supercam\", supercam_dict)"
   ]
  },
  {
   "cell_type": "markdown",
   "metadata": {},
   "source": [
    "### 2.15 Scraping A PROSPECTIVE UKRAINIAN LUNAR ORBITER MISSION: OBJECTIVES AND SCIENTIFIC PAYLOAD\n"
   ]
  },
  {
   "cell_type": "code",
   "execution_count": 14,
   "metadata": {},
   "outputs": [],
   "source": [
    "ukrlunorb_dict = Scrape_pdf.wrapper_transform_pdf(ukrlunorb_path, ukrlunorb_header_pattern, ukrlunorb_chapter_pattern, ukrlunorb_source)\n",
    "Webscraping.save_json(\"ukrlunorb\", ukrlunorb_dict)"
   ]
  },
  {
   "cell_type": "markdown",
   "metadata": {},
   "source": [
    "### 2.16 Scraping The Lyman-alpha Solar Telescope (LST) for the ASO-S mission — I. Scientific objectives and overview\n"
   ]
  },
  {
   "cell_type": "code",
   "execution_count": 15,
   "metadata": {},
   "outputs": [],
   "source": [
    "lst_dict = Scrape_pdf.wrapper_transform_pdf(lst_path, lst_header_pattern, lst_chapter_pattern, lst_source, lst_start_from, lst_end_at)\n",
    "Webscraping.save_json(\"lst\", lst_dict)"
   ]
  },
  {
   "cell_type": "markdown",
   "metadata": {},
   "source": [
    "### 2.17 Scraping Comparison of ICON/MIGHTI and TIMED/TIDI Neutral Wind Measurements in the Lower Thermosphere\n"
   ]
  },
  {
   "cell_type": "code",
   "execution_count": 16,
   "metadata": {},
   "outputs": [],
   "source": [
    "iconmighti_dict = Scrape_pdf.wrapper_transform_pdf(iconmighti_path, iconmighti_header_pattern, iconmighti_chapter_pattern, iconmighti_source, iconmighti_start_from, iconmighti_end_at)\n",
    "Webscraping.save_json(\"iconmighti\", iconmighti_dict)"
   ]
  },
  {
   "cell_type": "markdown",
   "metadata": {},
   "source": [
    "### 2.18 Scraping Overview of the POLAR mission\n"
   ]
  },
  {
   "cell_type": "code",
   "execution_count": 17,
   "metadata": {},
   "outputs": [],
   "source": [
    "polmiss_dict = Scrape_pdf.wrapper_transform_pdf(polmiss_path, polmiss_header_pattern, polmiss_chapter_pattern, polmiss_source, polmiss_start_from, polmiss_end_at)\n",
    "Webscraping.save_json(\"polmiss\", polmiss_dict)"
   ]
  },
  {
   "cell_type": "markdown",
   "metadata": {},
   "source": [
    "### 2.19 Scraping Time-resolved GRB polarization with POLAR and GBM. Simultaneous spectral and polarization analysis with synchrotron emission\n"
   ]
  },
  {
   "cell_type": "code",
   "execution_count": 18,
   "metadata": {},
   "outputs": [],
   "source": [
    "grb_dict = Scrape_pdf.wrapper_transform_pdf(grb_path, grb_header_pattern, grb_chapter_pattern, grb_source, grb_start_from, grb_end_at)\n",
    "Webscraping.save_json(\"grb\", grb_dict)"
   ]
  },
  {
   "cell_type": "markdown",
   "metadata": {},
   "source": [
    "### 2.20 Scraping PROMPT EMISSION POLARIMETRY OF GAMMA RAY BURSTS WITH ASTROSAT CZT-IMAGER\n"
   ]
  },
  {
   "cell_type": "code",
   "execution_count": 19,
   "metadata": {},
   "outputs": [],
   "source": [
    "astrosat_dict = Scrape_pdf.wrapper_transform_pdf(astrosat_path, astrosat_header_pattern, astrosat_chapter_pattern, astrosat_source, astrosat_start_from, astrosat_end_at)\n",
    "Webscraping.save_json(\"astrosat\", astrosat_dict)"
   ]
  },
  {
   "cell_type": "markdown",
   "metadata": {},
   "source": [
    "### 2.21 Scraping The LargE Area Burst Polarimeter (LEAP) a NASA Mission of Opportunity for the ISS\n"
   ]
  },
  {
   "cell_type": "code",
   "execution_count": 20,
   "metadata": {},
   "outputs": [],
   "source": [
    "leap_dict = Scrape_pdf.wrapper_transform_pdf(leap_path, leap_header_pattern, leap_chapter_pattern, leap_source, leap_start_from, leap_end_at)\n",
    "Webscraping.save_json(\"leap\", leap_dict)"
   ]
  },
  {
   "cell_type": "markdown",
   "metadata": {},
   "source": [
    "### 2.22 Scraping GRB Polarization: A Unique Probe of GRB Physics\n"
   ]
  },
  {
   "cell_type": "code",
   "execution_count": 21,
   "metadata": {},
   "outputs": [],
   "source": [
    "grbpol_dict = Scrape_pdf.wrapper_transform_pdf(grbpol_path, grbpol_header_pattern, grbpol_chapter_pattern, grbpol_source, grbpol_start_from, grbpol_end_at)\n",
    "Webscraping.save_json(\"grbpol\", grbpol_dict)"
   ]
  },
  {
   "cell_type": "markdown",
   "metadata": {},
   "source": [
    "### 2.23 Scraping Hard X-ray polarization catalog for a 5-year sample of Gamma-Ray Bursts using AstroSat CZT-Imager\n"
   ]
  },
  {
   "cell_type": "code",
   "execution_count": 22,
   "metadata": {},
   "outputs": [],
   "source": [
    "xraypol_dict = Scrape_pdf.wrapper_transform_pdf(xraypol_path, xraypol_header_pattern, xraypol_chapter_pattern, xraypol_source, xraypol_start_from, xraypol_end_at)\n",
    "Webscraping.save_json(\"xraypol\", xraypol_dict)"
   ]
  },
  {
   "cell_type": "markdown",
   "metadata": {},
   "source": [
    "### 2.24 Scraping Overview of PLATO’s cameras onground and in-orbit calibration and characterisation\n"
   ]
  },
  {
   "cell_type": "code",
   "execution_count": 23,
   "metadata": {},
   "outputs": [],
   "source": [
    "platocam_dict = Scrape_pdf.wrapper_transform_pdf(platocam_path, platocam_header_pattern, platocam_chapter_pattern, platocam_source, platocam_start_from, platocam_end_at)\n",
    "Webscraping.save_json(\"platocam\", platocam_dict)"
   ]
  },
  {
   "cell_type": "markdown",
   "metadata": {},
   "source": [
    "### 2.25 Scraping International Conference on Space Optics—ICSO 2012 - The PLATO Camera\n"
   ]
  },
  {
   "cell_type": "code",
   "execution_count": 24,
   "metadata": {},
   "outputs": [],
   "source": [
    "confplatocam_dict = Scrape_pdf.wrapper_transform_pdf(confplatocam_path, confplatocam_header_pattern, confplatocam_chapter_pattern, confplatocam_source, confplatocam_start_from, confplatocam_end_at)\n",
    "Webscraping.save_json(\"confplatocam\", confplatocam_dict)"
   ]
  },
  {
   "cell_type": "markdown",
   "metadata": {},
   "source": [
    "### 2.26 Scraping RITA: A 1U multi-sensor Earth observation payload for the AlainSat-1\n"
   ]
  },
  {
   "cell_type": "code",
   "execution_count": 25,
   "metadata": {},
   "outputs": [],
   "source": [
    "rita_dict = Scrape_pdf.wrapper_transform_pdf(rita_path, rita_header_pattern, rita_chapter_pattern, rita_source)\n",
    "Webscraping.save_json(\"rita\", rita_dict)"
   ]
  },
  {
   "cell_type": "markdown",
   "metadata": {},
   "source": [
    "### 2.27 Scraping Store and Forward CubeSat using LoRa Technology and Private LoRaWAN-Server\n"
   ]
  },
  {
   "cell_type": "code",
   "execution_count": 26,
   "metadata": {},
   "outputs": [],
   "source": [
    "storeforw_dict = Scrape_pdf.wrapper_transform_pdf(storeforw_path, storeforw_header_pattern, storeforw_chapter_pattern, storeforw_source, storeforw_start_from, storeforw_end_at)\n",
    "Webscraping.save_json(\"storeforw\", storeforw_dict)"
   ]
  },
  {
   "cell_type": "markdown",
   "metadata": {},
   "source": [
    "### 2.28 Scraping The Flexible Microwave Payload-2: A SDR-Based GNSS-Reflectometer and L-Band Radiometer for CubeSats\n"
   ]
  },
  {
   "cell_type": "code",
   "execution_count": 27,
   "metadata": {},
   "outputs": [],
   "source": [
    "flexmicro_dict = Scrape_pdf.wrapper_transform_pdf(flexmicro_path, flexmicro_header_pattern, flexmicro_chapter_pattern, flexmicro_source, flexmicro_start_from, flexmicro_end_at)\n",
    "Webscraping.save_json(\"flexmicro\", flexmicro_dict)"
   ]
  },
  {
   "cell_type": "markdown",
   "metadata": {},
   "source": [
    "### 2.29 Scraping The CaNOP Cubesat Mission, Remote Imaging of the Rain Forest And Testing AI Based Identification Tools\n"
   ]
  },
  {
   "cell_type": "code",
   "execution_count": 28,
   "metadata": {},
   "outputs": [],
   "source": [
    "canop_dict = Scrape_pdf.wrapper_transform_pdf(canop_path, canop_header_pattern, canop_chapter_pattern, canop_source, canop_start_from, canop_end_at)\n",
    "Webscraping.save_json(\"canop\", canop_dict)"
   ]
  },
  {
   "cell_type": "markdown",
   "metadata": {},
   "source": [
    "### 2.30 Scraping The SMOS Mission: New Tool for Monitoring Key Elements of the Global Water Cycle\n"
   ]
  },
  {
   "cell_type": "code",
   "execution_count": 29,
   "metadata": {},
   "outputs": [],
   "source": [
    "smos_dict = Scrape_pdf.wrapper_transform_pdf(smos_path, smos_header_pattern, smos_chapter_pattern, smos_source, smos_start_from, smos_end_at)\n",
    "Webscraping.save_json(\"smos\", smos_dict)"
   ]
  },
  {
   "cell_type": "markdown",
   "metadata": {},
   "source": [
    "### 2.31 Scraping The Soil Moisture Active Passive (SMAP) Mission"
   ]
  },
  {
   "cell_type": "code",
   "execution_count": 30,
   "metadata": {},
   "outputs": [],
   "source": [
    "smap_dict = Scrape_pdf.wrapper_transform_pdf(smap_path, smap_header_pattern, smap_chapter_pattern, smap_source, smap_start_from, smap_end_at)\n",
    "Webscraping.save_json(\"smap\", smap_dict)"
   ]
  }
 ],
 "metadata": {
  "kernelspec": {
   "display_name": "base",
   "language": "python",
   "name": "python3"
  },
  "language_info": {
   "codemirror_mode": {
    "name": "ipython",
    "version": 3
   },
   "file_extension": ".py",
   "mimetype": "text/x-python",
   "name": "python",
   "nbconvert_exporter": "python",
   "pygments_lexer": "ipython3",
   "version": "3.8.5"
  },
  "orig_nbformat": 4
 },
 "nbformat": 4,
 "nbformat_minor": 2
}
